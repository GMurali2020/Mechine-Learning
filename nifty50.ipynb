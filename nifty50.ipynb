{
 "cells": [
  {
   "cell_type": "code",
   "execution_count": 1,
   "metadata": {},
   "outputs": [],
   "source": [
    "import pandas as pd"
   ]
  },
  {
   "cell_type": "code",
   "execution_count": 2,
   "metadata": {},
   "outputs": [
    {
     "data": {
      "text/html": [
       "<div>\n",
       "<style scoped>\n",
       "    .dataframe tbody tr th:only-of-type {\n",
       "        vertical-align: middle;\n",
       "    }\n",
       "\n",
       "    .dataframe tbody tr th {\n",
       "        vertical-align: top;\n",
       "    }\n",
       "\n",
       "    .dataframe thead th {\n",
       "        text-align: right;\n",
       "    }\n",
       "</style>\n",
       "<table border=\"1\" class=\"dataframe\">\n",
       "  <thead>\n",
       "    <tr style=\"text-align: right;\">\n",
       "      <th></th>\n",
       "      <th>index</th>\n",
       "      <th>date</th>\n",
       "      <th>time</th>\n",
       "      <th>open</th>\n",
       "      <th>high</th>\n",
       "      <th>low</th>\n",
       "      <th>close</th>\n",
       "    </tr>\n",
       "  </thead>\n",
       "  <tbody>\n",
       "    <tr>\n",
       "      <th>0</th>\n",
       "      <td>NIFTY</td>\n",
       "      <td>20130401</td>\n",
       "      <td>09:16</td>\n",
       "      <td>5701.15</td>\n",
       "      <td>5704.65</td>\n",
       "      <td>5694.30</td>\n",
       "      <td>5697.00</td>\n",
       "    </tr>\n",
       "    <tr>\n",
       "      <th>1</th>\n",
       "      <td>NIFTY</td>\n",
       "      <td>20130401</td>\n",
       "      <td>09:17</td>\n",
       "      <td>5697.05</td>\n",
       "      <td>5698.35</td>\n",
       "      <td>5695.65</td>\n",
       "      <td>5697.50</td>\n",
       "    </tr>\n",
       "    <tr>\n",
       "      <th>2</th>\n",
       "      <td>NIFTY</td>\n",
       "      <td>20130401</td>\n",
       "      <td>09:18</td>\n",
       "      <td>5697.90</td>\n",
       "      <td>5697.90</td>\n",
       "      <td>5690.60</td>\n",
       "      <td>5692.15</td>\n",
       "    </tr>\n",
       "    <tr>\n",
       "      <th>3</th>\n",
       "      <td>NIFTY</td>\n",
       "      <td>20130401</td>\n",
       "      <td>09:19</td>\n",
       "      <td>5691.65</td>\n",
       "      <td>5694.70</td>\n",
       "      <td>5691.65</td>\n",
       "      <td>5693.90</td>\n",
       "    </tr>\n",
       "    <tr>\n",
       "      <th>4</th>\n",
       "      <td>NIFTY</td>\n",
       "      <td>20130401</td>\n",
       "      <td>09:20</td>\n",
       "      <td>5694.40</td>\n",
       "      <td>5695.05</td>\n",
       "      <td>5693.35</td>\n",
       "      <td>5694.55</td>\n",
       "    </tr>\n",
       "  </tbody>\n",
       "</table>\n",
       "</div>"
      ],
      "text/plain": [
       "   index      date   time     open     high      low    close\n",
       "0  NIFTY  20130401  09:16  5701.15  5704.65  5694.30  5697.00\n",
       "1  NIFTY  20130401  09:17  5697.05  5698.35  5695.65  5697.50\n",
       "2  NIFTY  20130401  09:18  5697.90  5697.90  5690.60  5692.15\n",
       "3  NIFTY  20130401  09:19  5691.65  5694.70  5691.65  5693.90\n",
       "4  NIFTY  20130401  09:20  5694.40  5695.05  5693.35  5694.55"
      ]
     },
     "execution_count": 2,
     "metadata": {},
     "output_type": "execute_result"
    }
   ],
   "source": [
    "df=pd.read_csv('./nifty50.csv')\n",
    "df[0:2000]\n",
    "df.head()"
   ]
  },
  {
   "cell_type": "code",
   "execution_count": 3,
   "metadata": {},
   "outputs": [
    {
     "data": {
      "text/plain": [
       "count    352920.000000\n",
       "mean       7374.515649\n",
       "std        1070.893139\n",
       "min        5126.150000\n",
       "25%        6167.650000\n",
       "50%        7738.800000\n",
       "75%        8298.762500\n",
       "max        9115.400000\n",
       "Name: open, dtype: float64"
      ]
     },
     "execution_count": 3,
     "metadata": {},
     "output_type": "execute_result"
    }
   ],
   "source": [
    "df['open'].describe()"
   ]
  },
  {
   "cell_type": "code",
   "execution_count": 4,
   "metadata": {},
   "outputs": [
    {
     "data": {
      "text/plain": [
       "count    352920.000000\n",
       "mean       7376.077510\n",
       "std        1071.032665\n",
       "min        5127.250000\n",
       "25%        6168.900000\n",
       "50%        7740.150000\n",
       "75%        8300.900000\n",
       "max        9119.200000\n",
       "Name: high, dtype: float64"
      ]
     },
     "execution_count": 4,
     "metadata": {},
     "output_type": "execute_result"
    }
   ],
   "source": [
    "df['high'].describe()"
   ]
  },
  {
   "cell_type": "code",
   "execution_count": 5,
   "metadata": {},
   "outputs": [
    {
     "data": {
      "text/html": [
       "<div>\n",
       "<style scoped>\n",
       "    .dataframe tbody tr th:only-of-type {\n",
       "        vertical-align: middle;\n",
       "    }\n",
       "\n",
       "    .dataframe tbody tr th {\n",
       "        vertical-align: top;\n",
       "    }\n",
       "\n",
       "    .dataframe thead th {\n",
       "        text-align: right;\n",
       "    }\n",
       "</style>\n",
       "<table border=\"1\" class=\"dataframe\">\n",
       "  <thead>\n",
       "    <tr style=\"text-align: right;\">\n",
       "      <th></th>\n",
       "      <th>date1</th>\n",
       "    </tr>\n",
       "  </thead>\n",
       "  <tbody>\n",
       "    <tr>\n",
       "      <th>0</th>\n",
       "      <td>2013-04-01</td>\n",
       "    </tr>\n",
       "    <tr>\n",
       "      <th>1</th>\n",
       "      <td>2013-04-01</td>\n",
       "    </tr>\n",
       "    <tr>\n",
       "      <th>2</th>\n",
       "      <td>2013-04-01</td>\n",
       "    </tr>\n",
       "    <tr>\n",
       "      <th>3</th>\n",
       "      <td>2013-04-01</td>\n",
       "    </tr>\n",
       "    <tr>\n",
       "      <th>4</th>\n",
       "      <td>2013-04-01</td>\n",
       "    </tr>\n",
       "  </tbody>\n",
       "</table>\n",
       "</div>"
      ],
      "text/plain": [
       "       date1\n",
       "0 2013-04-01\n",
       "1 2013-04-01\n",
       "2 2013-04-01\n",
       "3 2013-04-01\n",
       "4 2013-04-01"
      ]
     },
     "execution_count": 5,
     "metadata": {},
     "output_type": "execute_result"
    }
   ],
   "source": [
    "df1=pd.to_datetime(df['date'],format='%Y%m%d')\n",
    "df2=pd.DataFrame(list(df1),columns=['date1'])\n",
    "df2.head()"
   ]
  },
  {
   "cell_type": "code",
   "execution_count": 6,
   "metadata": {},
   "outputs": [],
   "source": [
    "from datetime import datetime\n",
    "l1=[]\n",
    "for x in df['time']:\n",
    "    d = datetime.strptime(x, \"%H:%M\")\n",
    "    l1.append(d.strftime(\"%I:%M %p\"))\n",
    "    \n",
    "    \n",
    "df3=pd.DataFrame(l1,columns=['time1']) \n",
    "df4=pd.concat([df2,df3],axis=1)"
   ]
  },
  {
   "cell_type": "code",
   "execution_count": null,
   "metadata": {},
   "outputs": [],
   "source": []
  },
  {
   "cell_type": "code",
   "execution_count": 19,
   "metadata": {},
   "outputs": [
    {
     "data": {
      "text/html": [
       "<div>\n",
       "<style scoped>\n",
       "    .dataframe tbody tr th:only-of-type {\n",
       "        vertical-align: middle;\n",
       "    }\n",
       "\n",
       "    .dataframe tbody tr th {\n",
       "        vertical-align: top;\n",
       "    }\n",
       "\n",
       "    .dataframe thead th {\n",
       "        text-align: right;\n",
       "    }\n",
       "</style>\n",
       "<table border=\"1\" class=\"dataframe\">\n",
       "  <thead>\n",
       "    <tr style=\"text-align: right;\">\n",
       "      <th></th>\n",
       "      <th>open</th>\n",
       "      <th>high</th>\n",
       "      <th>low</th>\n",
       "      <th>close</th>\n",
       "      <th>date1</th>\n",
       "      <th>time1</th>\n",
       "    </tr>\n",
       "  </thead>\n",
       "  <tbody>\n",
       "    <tr>\n",
       "      <th>0</th>\n",
       "      <td>5701.15</td>\n",
       "      <td>5704.65</td>\n",
       "      <td>5694.30</td>\n",
       "      <td>5697.00</td>\n",
       "      <td>2013-04-01</td>\n",
       "      <td>09:16 AM</td>\n",
       "    </tr>\n",
       "    <tr>\n",
       "      <th>1</th>\n",
       "      <td>5697.05</td>\n",
       "      <td>5698.35</td>\n",
       "      <td>5695.65</td>\n",
       "      <td>5697.50</td>\n",
       "      <td>2013-04-01</td>\n",
       "      <td>09:17 AM</td>\n",
       "    </tr>\n",
       "    <tr>\n",
       "      <th>2</th>\n",
       "      <td>5697.90</td>\n",
       "      <td>5697.90</td>\n",
       "      <td>5690.60</td>\n",
       "      <td>5692.15</td>\n",
       "      <td>2013-04-01</td>\n",
       "      <td>09:18 AM</td>\n",
       "    </tr>\n",
       "    <tr>\n",
       "      <th>3</th>\n",
       "      <td>5691.65</td>\n",
       "      <td>5694.70</td>\n",
       "      <td>5691.65</td>\n",
       "      <td>5693.90</td>\n",
       "      <td>2013-04-01</td>\n",
       "      <td>09:19 AM</td>\n",
       "    </tr>\n",
       "    <tr>\n",
       "      <th>4</th>\n",
       "      <td>5694.40</td>\n",
       "      <td>5695.05</td>\n",
       "      <td>5693.35</td>\n",
       "      <td>5694.55</td>\n",
       "      <td>2013-04-01</td>\n",
       "      <td>09:20 AM</td>\n",
       "    </tr>\n",
       "  </tbody>\n",
       "</table>\n",
       "</div>"
      ],
      "text/plain": [
       "      open     high      low    close      date1     time1\n",
       "0  5701.15  5704.65  5694.30  5697.00 2013-04-01  09:16 AM\n",
       "1  5697.05  5698.35  5695.65  5697.50 2013-04-01  09:17 AM\n",
       "2  5697.90  5697.90  5690.60  5692.15 2013-04-01  09:18 AM\n",
       "3  5691.65  5694.70  5691.65  5693.90 2013-04-01  09:19 AM\n",
       "4  5694.40  5695.05  5693.35  5694.55 2013-04-01  09:20 AM"
      ]
     },
     "execution_count": 19,
     "metadata": {},
     "output_type": "execute_result"
    }
   ],
   "source": [
    "df5=pd.concat([df.drop(['date','time','index'],axis=1),df4],axis=1)\n",
    "#df5.drop(['date'],axis=1)\n",
    "#df5.head()\n",
    "df5.head()"
   ]
  },
  {
   "cell_type": "code",
   "execution_count": 32,
   "metadata": {},
   "outputs": [
    {
     "data": {
      "text/html": [
       "<div>\n",
       "<style scoped>\n",
       "    .dataframe tbody tr th:only-of-type {\n",
       "        vertical-align: middle;\n",
       "    }\n",
       "\n",
       "    .dataframe tbody tr th {\n",
       "        vertical-align: top;\n",
       "    }\n",
       "\n",
       "    .dataframe thead th {\n",
       "        text-align: right;\n",
       "    }\n",
       "</style>\n",
       "<table border=\"1\" class=\"dataframe\">\n",
       "  <thead>\n",
       "    <tr style=\"text-align: right;\">\n",
       "      <th></th>\n",
       "      <th>open</th>\n",
       "      <th>high</th>\n",
       "      <th>low</th>\n",
       "      <th>close</th>\n",
       "      <th>date1</th>\n",
       "      <th>time1</th>\n",
       "    </tr>\n",
       "  </thead>\n",
       "  <tbody>\n",
       "    <tr>\n",
       "      <th>0</th>\n",
       "      <td>5701.15</td>\n",
       "      <td>5704.65</td>\n",
       "      <td>5694.30</td>\n",
       "      <td>5697.00</td>\n",
       "      <td>2013-04-01</td>\n",
       "      <td>09:16 AM</td>\n",
       "    </tr>\n",
       "    <tr>\n",
       "      <th>1</th>\n",
       "      <td>5697.05</td>\n",
       "      <td>5698.35</td>\n",
       "      <td>5695.65</td>\n",
       "      <td>5697.50</td>\n",
       "      <td>2013-04-01</td>\n",
       "      <td>09:17 AM</td>\n",
       "    </tr>\n",
       "    <tr>\n",
       "      <th>2</th>\n",
       "      <td>5697.90</td>\n",
       "      <td>5697.90</td>\n",
       "      <td>5690.60</td>\n",
       "      <td>5692.15</td>\n",
       "      <td>2013-04-01</td>\n",
       "      <td>09:18 AM</td>\n",
       "    </tr>\n",
       "    <tr>\n",
       "      <th>3</th>\n",
       "      <td>5691.65</td>\n",
       "      <td>5694.70</td>\n",
       "      <td>5691.65</td>\n",
       "      <td>5693.90</td>\n",
       "      <td>2013-04-01</td>\n",
       "      <td>09:19 AM</td>\n",
       "    </tr>\n",
       "    <tr>\n",
       "      <th>4</th>\n",
       "      <td>5694.40</td>\n",
       "      <td>5695.05</td>\n",
       "      <td>5693.35</td>\n",
       "      <td>5694.55</td>\n",
       "      <td>2013-04-01</td>\n",
       "      <td>09:20 AM</td>\n",
       "    </tr>\n",
       "  </tbody>\n",
       "</table>\n",
       "</div>"
      ],
      "text/plain": [
       "      open     high      low    close      date1     time1\n",
       "0  5701.15  5704.65  5694.30  5697.00 2013-04-01  09:16 AM\n",
       "1  5697.05  5698.35  5695.65  5697.50 2013-04-01  09:17 AM\n",
       "2  5697.90  5697.90  5690.60  5692.15 2013-04-01  09:18 AM\n",
       "3  5691.65  5694.70  5691.65  5693.90 2013-04-01  09:19 AM\n",
       "4  5694.40  5695.05  5693.35  5694.55 2013-04-01  09:20 AM"
      ]
     },
     "execution_count": 32,
     "metadata": {},
     "output_type": "execute_result"
    }
   ],
   "source": [
    "df6 = df5[(df5['date1']>= \"2013-04-01\") & (df5['date1']<=\"2013-04-01\")]\n",
    "df6.head()"
   ]
  },
  {
   "cell_type": "code",
   "execution_count": 33,
   "metadata": {},
   "outputs": [
    {
     "data": {
      "text/plain": [
       "(375, 6)"
      ]
     },
     "execution_count": 33,
     "metadata": {},
     "output_type": "execute_result"
    }
   ],
   "source": [
    "df6.shape"
   ]
  },
  {
   "cell_type": "code",
   "execution_count": 34,
   "metadata": {},
   "outputs": [
    {
     "data": {
      "text/html": [
       "<div>\n",
       "<style scoped>\n",
       "    .dataframe tbody tr th:only-of-type {\n",
       "        vertical-align: middle;\n",
       "    }\n",
       "\n",
       "    .dataframe tbody tr th {\n",
       "        vertical-align: top;\n",
       "    }\n",
       "\n",
       "    .dataframe thead th {\n",
       "        text-align: right;\n",
       "    }\n",
       "</style>\n",
       "<table border=\"1\" class=\"dataframe\">\n",
       "  <thead>\n",
       "    <tr style=\"text-align: right;\">\n",
       "      <th></th>\n",
       "      <th>open</th>\n",
       "      <th>high</th>\n",
       "      <th>low</th>\n",
       "      <th>close</th>\n",
       "    </tr>\n",
       "  </thead>\n",
       "  <tbody>\n",
       "    <tr>\n",
       "      <th>count</th>\n",
       "      <td>375.000000</td>\n",
       "      <td>375.000000</td>\n",
       "      <td>375.000000</td>\n",
       "      <td>375.000000</td>\n",
       "    </tr>\n",
       "    <tr>\n",
       "      <th>mean</th>\n",
       "      <td>5699.156667</td>\n",
       "      <td>5700.197600</td>\n",
       "      <td>5698.066533</td>\n",
       "      <td>5699.125067</td>\n",
       "    </tr>\n",
       "    <tr>\n",
       "      <th>std</th>\n",
       "      <td>8.892726</td>\n",
       "      <td>8.905189</td>\n",
       "      <td>8.874712</td>\n",
       "      <td>8.926377</td>\n",
       "    </tr>\n",
       "    <tr>\n",
       "      <th>min</th>\n",
       "      <td>5676.150000</td>\n",
       "      <td>5676.950000</td>\n",
       "      <td>5675.900000</td>\n",
       "      <td>5676.100000</td>\n",
       "    </tr>\n",
       "    <tr>\n",
       "      <th>25%</th>\n",
       "      <td>5693.100000</td>\n",
       "      <td>5694.125000</td>\n",
       "      <td>5691.800000</td>\n",
       "      <td>5692.900000</td>\n",
       "    </tr>\n",
       "    <tr>\n",
       "      <th>50%</th>\n",
       "      <td>5699.250000</td>\n",
       "      <td>5700.200000</td>\n",
       "      <td>5698.150000</td>\n",
       "      <td>5699.350000</td>\n",
       "    </tr>\n",
       "    <tr>\n",
       "      <th>75%</th>\n",
       "      <td>5706.025000</td>\n",
       "      <td>5707.575000</td>\n",
       "      <td>5705.000000</td>\n",
       "      <td>5706.075000</td>\n",
       "    </tr>\n",
       "    <tr>\n",
       "      <th>max</th>\n",
       "      <td>5720.800000</td>\n",
       "      <td>5720.950000</td>\n",
       "      <td>5719.150000</td>\n",
       "      <td>5720.600000</td>\n",
       "    </tr>\n",
       "  </tbody>\n",
       "</table>\n",
       "</div>"
      ],
      "text/plain": [
       "              open         high          low        close\n",
       "count   375.000000   375.000000   375.000000   375.000000\n",
       "mean   5699.156667  5700.197600  5698.066533  5699.125067\n",
       "std       8.892726     8.905189     8.874712     8.926377\n",
       "min    5676.150000  5676.950000  5675.900000  5676.100000\n",
       "25%    5693.100000  5694.125000  5691.800000  5692.900000\n",
       "50%    5699.250000  5700.200000  5698.150000  5699.350000\n",
       "75%    5706.025000  5707.575000  5705.000000  5706.075000\n",
       "max    5720.800000  5720.950000  5719.150000  5720.600000"
      ]
     },
     "execution_count": 34,
     "metadata": {},
     "output_type": "execute_result"
    }
   ],
   "source": [
    "df6.describe()"
   ]
  },
  {
   "cell_type": "code",
   "execution_count": 154,
   "metadata": {},
   "outputs": [],
   "source": [
    "import json\n",
    "def date_result(date):\n",
    "    main_result=[]\n",
    "    weight=0\n",
    "    for x in range(int(date[0])):\n",
    "        date='2013-04-0{a}'.format(a=x+1)\n",
    "        df6 = df5[(df5['date1']>= date) & (df5['date1']<=date)]\n",
    "        result={\"date\":date+' '+df6['time1'][weight],\"open\":df6['open'].max(),\n",
    "                \"high\":df6['high'].max(),\n",
    "                \"low\":df6['low'].min(),\"close\":df6['close'].min()}\n",
    "        \n",
    "        main_result.append(result)\n",
    "        weight+=len(df6)\n",
    "    return json.dumps(main_result)"
   ]
  },
  {
   "cell_type": "code",
   "execution_count": 156,
   "metadata": {},
   "outputs": [
    {
     "name": "stdout",
     "output_type": "stream",
     "text": [
      "1875\n"
     ]
    },
    {
     "data": {
      "text/plain": [
       "'[{\"date\": \"2013-04-01 09:16 AM\", \"open\": 5720.8, \"high\": 5720.95, \"low\": 5675.9, \"close\": 5676.1}, {\"date\": \"2013-04-02 09:16 AM\", \"open\": 5754.3, \"high\": 5754.6, \"low\": 5687.15, \"close\": 5687.95}, {\"date\": \"2013-04-03 09:16 AM\", \"open\": 5743.8, \"high\": 5744.95, \"low\": 5650.1, \"close\": 5651.9}, {\"date\": \"2013-04-04 09:16 AM\", \"open\": 5642.2, \"high\": 5644.45, \"low\": 5565.65, \"close\": 5568.65}, {\"date\": \"2013-04-05 09:16 AM\", \"open\": 5575.75, \"high\": 5577.3, \"low\": 5534.7, \"close\": 5535.15}]'"
      ]
     },
     "execution_count": 156,
     "metadata": {},
     "output_type": "execute_result"
    }
   ],
   "source": [
    "date_result('5d')"
   ]
  },
  {
   "cell_type": "code",
   "execution_count": null,
   "metadata": {},
   "outputs": [],
   "source": [
    "\n"
   ]
  },
  {
   "cell_type": "code",
   "execution_count": null,
   "metadata": {},
   "outputs": [],
   "source": []
  }
 ],
 "metadata": {
  "kernelspec": {
   "display_name": "Python 3",
   "language": "python",
   "name": "python3"
  },
  "language_info": {
   "codemirror_mode": {
    "name": "ipython",
    "version": 3
   },
   "file_extension": ".py",
   "mimetype": "text/x-python",
   "name": "python",
   "nbconvert_exporter": "python",
   "pygments_lexer": "ipython3",
   "version": "3.8.5"
  }
 },
 "nbformat": 4,
 "nbformat_minor": 4
}
